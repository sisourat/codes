{
 "cells": [
  {
   "cell_type": "code",
   "execution_count": 1,
   "metadata": {},
   "outputs": [],
   "source": [
    "# import libraries \n",
    "\n",
    "import numpy as np\n",
    "import matplotlib.pyplot as plt\n",
    "from scipy import interpolate\n",
    "%matplotlib inline\n",
    "import random\n",
    "#import mpld3                          # can be installed by \"pip install mpld3\"\n",
    "#mpld3.enable_notebook()"
   ]
  },
  {
   "cell_type": "code",
   "execution_count": 2,
   "metadata": {},
   "outputs": [],
   "source": [
    "# function definitions \n",
    "\n",
    "def derive(f,x,h):\n",
    "    \n",
    "    return (f(x+h) - f(x-h))/(2*h)\n",
    "\n",
    "def derive_twice(f,x,h):\n",
    "    \n",
    "    return ( f(x+h) - 2*f(x) + f(x-h) ) / (h**2)\n",
    "\n",
    "def create_interp(x,V):\n",
    "    \n",
    "    f = interpolate.interp1d(x,V,kind=\"cubic\",fill_value=\"extrapolate\")\n",
    "    \n",
    "    return f"
   ]
  },
  {
   "cell_type": "code",
   "execution_count": 3,
   "metadata": {},
   "outputs": [],
   "source": [
    "# the first column contains the position\n",
    "\n",
    "x_data = np.loadtxt(\"myData.txt\", delimiter=' ',skiprows=2)[:,0]       \n",
    "\n",
    "# other columns contain energy values\n",
    "\n",
    "E_data = [np.loadtxt(\"myData.txt\", delimiter=' ',skiprows=2)[:,i] for i in range(1,8)]"
   ]
  },
  {
   "cell_type": "code",
   "execution_count": 5,
   "metadata": {},
   "outputs": [
    {
     "data": {
      "text/plain": [
       "7"
      ]
     },
     "execution_count": 5,
     "metadata": {},
     "output_type": "execute_result"
    }
   ],
   "source": []
  },
  {
   "cell_type": "code",
   "execution_count": 4,
   "metadata": {},
   "outputs": [
    {
     "name": "stdout",
     "output_type": "stream",
     "text": [
      "Choose the initial curve (0 for ground state): 6\n"
     ]
    }
   ],
   "source": [
    "j = int(input(\"Choose the initial curve (0 for ground state): \"))"
   ]
  },
  {
   "cell_type": "code",
   "execution_count": 6,
   "metadata": {},
   "outputs": [],
   "source": [
    "def Verlet (x_data,E_data,j,m,x0,v0,tmax,dt):\n",
    "    \"\"\"\n",
    "    Here the variables carry two different labels: _bef anf _aft \n",
    "    which correspond to before and after the hopping. The variables\n",
    "    with label _tmp is used to store those values temporarily.\n",
    "    \"\"\"\n",
    "    \n",
    "    t = 0; x_bef = x0; v_bef = v0\n",
    "    \n",
    "    V_bef = create_interp(x_data,E_data[j]) # potential before the hop\n",
    "    \n",
    "    V_aft = [create_interp(x_data,E_data[k]) for k in range(len(E_data))] # potential after the hop\n",
    "    \n",
    "    a_bef = -derive(V_bef,x_bef,dt)/m\n",
    "    \n",
    "    \n",
    "    pos_bef = []; pos_aft = []; vel_bef = []; vel_aft = []; energy_bef = []\n",
    "    time = []; pot_bef = []; pot_aft = []; energy_aft = []; \n",
    "    \n",
    "    \n",
    "    while(t<tmax):                     \n",
    "                \n",
    "            x_bef_tmp = x_bef\n",
    "            x_bef = x_bef_tmp + v_bef*dt + 0.5*(dt)**2 * a_bef\n",
    "            \n",
    "            a_bef_tmp = a_bef\n",
    "            a_bef = -derive(V_bef,x_bef,dt)/m\n",
    "            \n",
    "            v_bef_tmp = v_bef\n",
    "            T_bef = 0.5*v_bef**2\n",
    "            \n",
    "            v_bef = v_bef_tmp + 0.5*(dt)*(a_bef + a_bef_tmp)\n",
    "            \n",
    "            \n",
    "            \n",
    "            \"\"\"\n",
    "            Here we use the fact that derivative is a linear operator.\n",
    "            Instead of computing the derivative of the difference, we \n",
    "            compute the difference of derivatives at a given point. The\n",
    "            reason is that python does not allow to subtract two data \n",
    "            structures of type \"interp1d\".\n",
    "            \n",
    "            \"\"\"\n",
    "            \n",
    "            \n",
    "            for elem in V_aft:\n",
    "                \n",
    "                V_diff = V_bef(x_bef) - elem(x_bef)  \n",
    "                \n",
    "                dV_diff = derive(V_bef,x_bef,dt) - derive(elem,x_bef,dt) \n",
    "                \n",
    "            \n",
    "                if dV_diff <= 1e-8: # when the derivative is effectively zero\n",
    "\n",
    "                    P_LZ = np.exp((-np.pi/2)* (abs(V_diff)**3 / (3*(derive_twice(V_bef,t+dt,dt) - derive_twice(elem,t+dt,dt) ) ) )**0.5 )               \n",
    "\n",
    "                    num = random.uniform(0,1)\n",
    "\n",
    "                    x_aft = x_bef\n",
    "                    v_aft = v_bef     # rescale the velocity (how?)\n",
    "                    a_aft = -derive(elem,x_aft,dt)/m\n",
    "                    T_aft = 0.5*v_aft**2\n",
    "\n",
    "                    if P_LZ > num:\n",
    "\n",
    "                        if T_aft - (V_diff + T_bef) <= 1e-8: #check the energy gap \n",
    "\n",
    "                            x_aft_tmp = x_aft\n",
    "                            x_aft = x_aft_tmp + v_aft*dt + 0.5*(dt)**2 * a_aft\n",
    "\n",
    "                            a_aft_tmp = a_aft\n",
    "                            a_aft = -derive(elem,x_aft,dt)/m\n",
    "\n",
    "                            v_aft_tmp = v_aft\n",
    "                            T_aft = 0.5*v_aft*v_aft\n",
    "\n",
    "                            v_aft = v_aft_tmp + 0.5*(dt)*(a_aft + a_aft_tmp)\n",
    "\n",
    "\n",
    "                            pos_aft.append(x_aft)\n",
    "                            vel_aft.append(v_aft)\n",
    "                            pot_aft.append(elem(x_aft))\n",
    "                            energy_aft.append(elem(x_aft) + T_aft)\n",
    "                        \n",
    "            \n",
    "            t = t + dt\n",
    "            \n",
    "            pos_bef.append(x_bef)\n",
    "        \n",
    "            vel_bef.append(v_bef)\n",
    "            \n",
    "            pot_bef.append(V_bef(x_bef))\n",
    "           \n",
    "            energy_bef.append(V_bef(x_bef) + T_bef)\n",
    "            \n",
    "            time.append(t)\n",
    "            \n",
    "            \n",
    "        \n",
    "        \n",
    "    return(time,pos_bef,pos_aft,vel_bef,vel_aft,pot_bef,pot_aft,energy_bef,energy_aft)             # return the solution"
   ]
  },
  {
   "cell_type": "code",
   "execution_count": 8,
   "metadata": {},
   "outputs": [
    {
     "name": "stdout",
     "output_type": "stream",
     "text": [
      "Initial kinetic energy: 1e3\n"
     ]
    },
    {
     "name": "stderr",
     "output_type": "stream",
     "text": [
      "/opt/anaconda3/lib/python3.7/site-packages/ipykernel_launcher.py:56: RuntimeWarning: invalid value encountered in double_scalars\n"
     ]
    }
   ],
   "source": [
    "m_ccl = 1836.15*(35.453 * 12.0107)/(35.453 + 12.0107)\n",
    "E = float(input(\"Initial kinetic energy: \"))\n",
    "v_ccl = (2*E/m_ccl)**0.5\n",
    "x0 = -90\n",
    "test = Verlet(x_data,E_data,j,m_ccl,x0,v_ccl,180/v_ccl,0.01)"
   ]
  },
  {
   "cell_type": "code",
   "execution_count": null,
   "metadata": {},
   "outputs": [],
   "source": []
  }
 ],
 "metadata": {
  "kernelspec": {
   "display_name": "Python 3",
   "language": "python",
   "name": "python3"
  },
  "language_info": {
   "codemirror_mode": {
    "name": "ipython",
    "version": 3
   },
   "file_extension": ".py",
   "mimetype": "text/x-python",
   "name": "python",
   "nbconvert_exporter": "python",
   "pygments_lexer": "ipython3",
   "version": "3.7.4"
  }
 },
 "nbformat": 4,
 "nbformat_minor": 2
}
