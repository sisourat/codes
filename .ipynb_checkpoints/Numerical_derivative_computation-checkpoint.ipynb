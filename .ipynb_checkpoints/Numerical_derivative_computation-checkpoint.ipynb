{
 "cells": [
  {
   "cell_type": "markdown",
   "metadata": {},
   "source": [
    "## Numerical Computation of the Derivative (of Harmonic Potential)"
   ]
  },
  {
   "cell_type": "markdown",
   "metadata": {},
   "source": [
    "Here is a small piece of code that numerically calculates the first derivative of the harmonic potential of the form $V(x)=\\frac{1}{2} m \\omega^2 x^2$. We calculated the first derivative by using the centered differences approximation given below. $$f^{\\prime}(x)\\approx  \\frac{f(x+\\Delta x)-f(x-\\Delta x)}{2 \\Delta x}$$ First derivatives of the function at the end points of the interval are calculated using the forward and backward differences."
   ]
  },
  {
   "cell_type": "code",
   "execution_count": 2,
   "metadata": {},
   "outputs": [],
   "source": [
    "import numpy as np\n",
    "import matplotlib.pyplot as plt\n",
    "%matplotlib inline"
   ]
  },
  {
   "cell_type": "code",
   "execution_count": 3,
   "metadata": {},
   "outputs": [],
   "source": [
    "a = -10; b = 10; n = 100; m = 1; w = 1\n",
    "x = np.linspace(a,b,n)\n",
    "f = 0.5*m*(w*x)**2\n",
    "\n",
    "def derive(f,x):\n",
    "    \"\"\"\n",
    "    This function returns the first derivative of f with respect to x defined in interval [a,b]\n",
    "    \"\"\"\n",
    "    \n",
    "    g = np.zeros(len(x))       # initialisation of the list\n",
    "    \n",
    "    for i in range(1,len(x)-1):                      # computing the derivative except for the end points\n",
    "        g[i] = (f[i+1] - f[i-1]) / (x[i+1] - x[i-1]) # difference in x is constant in this case; however, I keep it general\n",
    "\n",
    "    g[0] = (f[1] - f[0]) / (x[1] - x[0])             # computing the derivative for the end points using forward difference\n",
    "    g[-1] = (f[-1] - f[-2]) / (x[-1] - x[-2])\n",
    "    \n",
    "    return g"
   ]
  },
  {
   "cell_type": "code",
   "execution_count": 12,
   "metadata": {
    "scrolled": true
   },
   "outputs": [
    {
     "data": {
      "image/png": "[encoded data removed]",
      "text/plain": [
       "<Figure size 432x288 with 1 Axes>"
      ]
     },
     "metadata": {
      "needs_background": "light"
     },
     "output_type": "display_data"
    }
   ],
   "source": [
    "h = derive(f,x)\n",
    "h_actual = m*w*w*x\n",
    "\n",
    "plt.plot(x,h_actual,'b',label=\"Analytical\")\n",
    "plt.plot(x,h,'ro',label=\"Numerical\", markeredgewidth=1,\n",
    "         markersize=4, markevery=3)\n",
    "plt.title(\"Numerical and Analytical Derivative\", fontsize=14)\n",
    "plt.xlabel(\"$x$\", fontsize=18)\n",
    "plt.ylabel(\"$\\\\frac{df}{dx}$\", fontsize=18)\n",
    "plt.legend(loc='lower right')\n",
    "plt.show()"
   ]
  },
  {
   "cell_type": "code",
   "execution_count": 5,
   "metadata": {},
   "outputs": [
    {
     "name": "stdout",
     "output_type": "stream",
     "text": [
      "0\n",
      "0.10101010101011276\n",
      "99\n",
      "0.10101010101009678\n"
     ]
    }
   ],
   "source": [
    "# Absolute error\n",
    "\n",
    "abs_err = list(abs(h_actual - h))\n",
    "\n",
    "for elem in abs_err:\n",
    "    if elem > 1e-6:\n",
    "        print(abs_err.index(elem))\n",
    "        print(elem)\n"
   ]
  },
  {
   "cell_type": "markdown",
   "metadata": {},
   "source": [
    "The error in the centered differences approximation is smaller than $10^{-6}$. We have relatively higher error in the end points which are calculated by using forward/backward differences.\n",
    "\n",
    "We can also use the built-in numpy method to compute the first derivative which uses the exact same procedure as above."
   ]
  },
  {
   "cell_type": "code",
   "execution_count": 13,
   "metadata": {},
   "outputs": [],
   "source": [
    "np.gradient(f,x[1]-x[0]);"
   ]
  }
 ],
 "metadata": {
  "kernelspec": {
   "display_name": "Python 3",
   "language": "python",
   "name": "python3"
  },
  "language_info": {
   "codemirror_mode": {
    "name": "ipython",
    "version": 3
   },
   "file_extension": ".py",
   "mimetype": "text/x-python",
   "name": "python",
   "nbconvert_exporter": "python",
   "pygments_lexer": "ipython3",
   "version": "3.7.4"
  }
 },
 "nbformat": 4,
 "nbformat_minor": 2
}
